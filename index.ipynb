{
 "cells": [
  {
   "cell_type": "markdown",
   "metadata": {},
   "source": [
    "# Building a Simple GIS with Yelp API and Folium - Lab\n",
    "\n",
    "## Introduction \n",
    "\n",
    "So we have learned quite a bit about APIs and how they are now big buzzword in the tech industry. Think of it as a protocol for how to make requests and communicate with another server. We have seen how to mine Twitter for getting text data and apply basic frequency based NLP techniques to get some insight. \n",
    "\n",
    "One of the key aspects of being a data scientist is the ability to learn how a new API works, how to go through its specific authentication process (OAuth) and how to process the data structures that get returned as a response to our requests. It is a good practice to spend some time learning the API through the official documentation before sending in requests. \n",
    "\n",
    "On these lines, this lab requires you to learn another popular API (YELP Fusion) by following the provided detailed online documentation. We shall build a simple Geographical Information System (GIS) using the data from yelp."
   ]
  },
  {
   "cell_type": "markdown",
   "metadata": {},
   "source": [
    "## Objectives\n",
    "You will be able to: \n",
    "* Successfully sign up for Yelp API \n",
    "* Create HTTP requests to get data from Yelp API\n",
    "* Parse HTTP responses and perform data analysis on the data returned\n",
    "* Create a simple geographical system on to view information about selected businesses, at a given location. \n"
   ]
  },
  {
   "cell_type": "markdown",
   "metadata": {},
   "source": [
    "## The Yelp Fusion API - v3\n",
    "\n",
    "\n",
    "### Point your browser over to this [yelp page](https://www.yelp.com/developers/v3/manage_app) and create an app in order to obtain  `client_id` and `api_key` tokens. \n",
    "\n",
    "**NOTE:** You will be required to sign up using Google or Facebook etc. if you dont already have an account.\n",
    "\n",
    "<img src=\"yelp_app.png\" width=500>\n",
    "\n"
   ]
  },
  {
   "cell_type": "markdown",
   "metadata": {},
   "source": [
    "After registration, you'll be presented with your account information and limits of your access. For Yelp, or any other API for that reason, you need to make sure that you dont surpass your request quota, otherwise, you may end up getting banned in some cases. Yelp shows this information to you as below:\n",
    "\n",
    "<img src=\"quota.png\" width=500>"
   ]
  },
  {
   "cell_type": "markdown",
   "metadata": {},
   "source": [
    "### Save your api_key and client_id in the variables below:"
   ]
  },
  {
   "cell_type": "code",
   "execution_count": 1,
   "metadata": {},
   "outputs": [],
   "source": [
    "# Save your tokens in the following string variables\n",
    "client_id = \n",
    "api_key = "
   ]
  },
  {
   "cell_type": "markdown",
   "metadata": {},
   "source": [
    "## The `yelpapi` "
   ]
  },
  {
   "cell_type": "markdown",
   "metadata": {},
   "source": [
    "The yelpapi is a pure Python implementation of the Yelp Fusion API (aka Yelp v3 API). It is simple, fast, and robust to any changes Yelp may make to the API in the future. See tha basic usage of this library on the [official Github repo](https://github.com/gfairchild/yelpapi). You may look out for other APIs to achieve this but for this lesson, we shall use it for sake of simplicity. \n",
    "\n",
    "First you must pip install the library"
   ]
  },
  {
   "cell_type": "code",
   "execution_count": 2,
   "metadata": {},
   "outputs": [
    {
     "name": "stdout",
     "output_type": "stream",
     "text": [
      "Collecting yelpapi\n",
      "  Downloading https://files.pythonhosted.org/packages/bb/07/f01be72829a3ce2da71bfde33d4bfe9ce5d8173a5a0470420fcb4dbacdd9/yelpapi-2.3.0-py2.py3-none-any.whl\n",
      "Requirement already satisfied: requests in /Users/natalia/anaconda3/envs/learn-env/lib/python3.6/site-packages (from yelpapi) (2.19.1)\n",
      "Requirement already satisfied: idna<2.8,>=2.5 in /Users/natalia/anaconda3/envs/learn-env/lib/python3.6/site-packages (from requests->yelpapi) (2.7)\n",
      "Requirement already satisfied: urllib3<1.24,>=1.21.1 in /Users/natalia/anaconda3/envs/learn-env/lib/python3.6/site-packages (from requests->yelpapi) (1.23)\n",
      "Requirement already satisfied: chardet<3.1.0,>=3.0.2 in /Users/natalia/anaconda3/envs/learn-env/lib/python3.6/site-packages (from requests->yelpapi) (3.0.4)\n",
      "Requirement already satisfied: certifi>=2017.4.17 in /Users/natalia/anaconda3/envs/learn-env/lib/python3.6/site-packages (from requests->yelpapi) (2018.8.13)\n",
      "Installing collected packages: yelpapi\n",
      "Successfully installed yelpapi-2.3.0\n",
      "\u001b[33mYou are using pip version 10.0.1, however version 18.1 is available.\n",
      "You should consider upgrading via the 'pip install --upgrade pip' command.\u001b[0m\n"
     ]
    }
   ],
   "source": [
    "!pip install yelpapi"
   ]
  },
  {
   "cell_type": "markdown",
   "metadata": {},
   "source": [
    "### Import `yelpapi ` into working environment and pass in the api_key as shown in the Github Repo "
   ]
  },
  {
   "cell_type": "code",
   "execution_count": 4,
   "metadata": {},
   "outputs": [],
   "source": [
    "from yelpapi import YelpAPI\n",
    "\n",
    "yelp_api = YelpAPI(api_key)"
   ]
  },
  {
   "cell_type": "markdown",
   "metadata": {},
   "source": [
    "### The Api request and response\n",
    "\n",
    "Great so we can now start making API calls using the format:\n",
    "```python\n",
    "response = yelp_api.search_query(term =<search term>, \n",
    "                                 location=<search location>, \n",
    "                                 sort_by='rating', \n",
    "                                 limit=50)\n",
    "```\n",
    "We can pass in a lot more arguments to refine our search. [Here is a complete list of options that search API provides us](https://www.yelp.com/developers/documentation/v3/business_search)\n",
    "\n",
    "* Make an API request using a simple criteria location and term\n",
    "* save the response as `response` \n",
    "* inspect the type and contents of `response`."
   ]
  },
  {
   "cell_type": "code",
   "execution_count": 5,
   "metadata": {},
   "outputs": [],
   "source": [
    "## Pass in a spcific term and location to make a call. \n",
    "\n",
    "# For this example, we are looking for chinese food in London.\n",
    "\n",
    "term = 'Chinese food'\n",
    "location = 'London'\n",
    "\n",
    "response = yelp_api.search_query(term = term, location=location, sort_by='rating', limit=20)"
   ]
  },
  {
   "cell_type": "code",
   "execution_count": 9,
   "metadata": {},
   "outputs": [
    {
     "name": "stdout",
     "output_type": "stream",
     "text": [
      "{'businesses': [{'id': 'h2cCoDNQOPd51HFwvuAGNg', 'alias': 'hakkasan-london-3', 'name': 'Hakkasan', 'image_url': 'https://s3-media2.fl.yelpcdn.com/bphoto/IcS9yzJnweDO4DsfJ94jAw/o.jpg', 'is_closed': False, 'url': 'https://www.yelp.com/biz/hakkasan-london-3?adjust_creative=VN8Dg6kIKfnJKOflOqsscA&utm_campaign=yelp_api_v3&utm_medium=api_v3_business_search&utm_source=VN8Dg6kIKfnJKOflOqsscA', 'review_count': 219, 'categories': [{'alias': 'cantonese', 'title': 'Cantonese'}], 'rating': 4.0, 'coordinates': {'latitude': 51.5171482803943, 'longitude': -0.13180578932657}, 'transactions': [], 'price': '££££', 'location': {'address1': '8 Hanway Place', 'address2': '', 'address3': '', 'city': 'London', 'zip_code': 'W1T 1HD', 'country': 'GB', 'state': 'XGL', 'display_address': ['8 Hanway Place', 'London W1T 1HD', 'United Kingdom']}, 'phone': '+442079277000', 'display_phone': '+44 20 7927 7000', 'distance': 558.9650039747677}, {'id': 'QE5aa5N-dbfvafLsjn7TVg', 'alias': 'bamboo-flute-fitzrovia', 'name': 'Bamboo Flute', 'image_url': 'https://s3-media3.fl.yelpcdn.com/bphoto/kYQZjHmzt8zy1634OsAsxQ/o.jpg', 'is_closed': False, 'url': 'https://www.yelp.com/biz/bamboo-flute-fitzrovia?adjust_creative=VN8Dg6kIKfnJKOflOqsscA&utm_campaign=yelp_api_v3&utm_medium=api_v3_business_search&utm_source=VN8Dg6kIKfnJKOflOqsscA', 'review_count': 28, 'categories': [{'alias': 'chinese', 'title': 'Chinese'}], 'rating': 4.5, 'coordinates': {'latitude': 51.5228746, 'longitude': -0.1418939}, 'transactions': [], 'price': '£', 'location': {'address1': '145 Cleveland Street', 'address2': '', 'address3': '', 'city': 'Fitzrovia', 'zip_code': 'W1T 6QH', 'country': 'GB', 'state': 'XGL', 'display_address': ['145 Cleveland Street', 'Fitzrovia W1T 6QH', 'United Kingdom']}, 'phone': '+442073872738', 'display_phone': '+44 20 7387 2738', 'distance': 1189.5082547156321}, {'id': 'sYwBQ7mJYhB35nn-_SZstQ', 'alias': 'yauatcha-london-7', 'name': 'Yauatcha', 'image_url': 'https://s3-media1.fl.yelpcdn.com/bphoto/G7Ydt9lmtWsUN1gRhlCRsw/o.jpg', 'is_closed': False, 'url': 'https://www.yelp.com/biz/yauatcha-london-7?adjust_creative=VN8Dg6kIKfnJKOflOqsscA&utm_campaign=yelp_api_v3&utm_medium=api_v3_business_search&utm_source=VN8Dg6kIKfnJKOflOqsscA', 'review_count': 459, 'categories': [{'alias': 'dimsum', 'title': 'Dim Sum'}, {'alias': 'seafood', 'title': 'Seafood'}, {'alias': 'noodles', 'title': 'Noodles'}], 'rating': 4.0, 'coordinates': {'latitude': 51.5137076071076, 'longitude': -0.135128831605189}, 'transactions': [], 'price': '£££', 'location': {'address1': '15-17 Broadwick Street', 'address2': '', 'address3': '', 'city': 'London', 'zip_code': 'W1F 0DL', 'country': 'GB', 'state': 'XGL', 'display_address': ['15-17 Broadwick Street', 'London W1F 0DL', 'United Kingdom']}, 'phone': '+442074948888', 'display_phone': '+44 20 7494 8888', 'distance': 112.59840998419494}, {'id': 'pdFiFtol9YI__9ROOXUIYA', 'alias': 'lanzhou-noodle-bar-london', 'name': 'Lanzhou Noodle Bar', 'image_url': 'https://s3-media4.fl.yelpcdn.com/bphoto/OMre4TNCrkDck3wqpUXbjQ/o.jpg', 'is_closed': False, 'url': 'https://www.yelp.com/biz/lanzhou-noodle-bar-london?adjust_creative=VN8Dg6kIKfnJKOflOqsscA&utm_campaign=yelp_api_v3&utm_medium=api_v3_business_search&utm_source=VN8Dg6kIKfnJKOflOqsscA', 'review_count': 310, 'categories': [{'alias': 'chinese', 'title': 'Chinese'}, {'alias': 'noodles', 'title': 'Noodles'}], 'rating': 4.0, 'coordinates': {'latitude': 51.5116034713013, 'longitude': -0.127834377873126}, 'transactions': [], 'price': '£', 'location': {'address1': '33 Cranbourne Street', 'address2': '', 'address3': '', 'city': 'London', 'zip_code': 'WC2H 7AD', 'country': 'GB', 'state': 'XGL', 'display_address': ['33 Cranbourne Street', 'London WC2H 7AD', 'United Kingdom']}, 'phone': '+442074674546', 'display_phone': '+44 20 7467 4546', 'distance': 578.4743547816091}, {'id': 'chEEcQbc8PbidTeXK34H9g', 'alias': 'hakkasan-mayfair-london-2', 'name': 'Hakkasan Mayfair', 'image_url': 'https://s3-media2.fl.yelpcdn.com/bphoto/LX_W20RxnR5yzB3dTN6IdA/o.jpg', 'is_closed': False, 'url': 'https://www.yelp.com/biz/hakkasan-mayfair-london-2?adjust_creative=VN8Dg6kIKfnJKOflOqsscA&utm_campaign=yelp_api_v3&utm_medium=api_v3_business_search&utm_source=VN8Dg6kIKfnJKOflOqsscA', 'review_count': 117, 'categories': [{'alias': 'chinese', 'title': 'Chinese'}], 'rating': 4.0, 'coordinates': {'latitude': 51.5103202323384, 'longitude': -0.144935268434918}, 'transactions': [], 'price': '££££', 'location': {'address1': '17 Bruton Street', 'address2': '', 'address3': '', 'city': 'London', 'zip_code': 'W1J 6QB', 'country': 'GB', 'state': 'XGL', 'display_address': ['17 Bruton Street', 'London W1J 6QB', 'United Kingdom']}, 'phone': '+442079071888', 'display_phone': '+44 20 7907 1888', 'distance': 681.4450716267161}, {'id': '6iCxFP7Oc0qG_6ByenO0sw', 'alias': 'silk-road-london-2', 'name': 'Silk Road', 'image_url': 'https://s3-media3.fl.yelpcdn.com/bphoto/pUXusTIbeDRInvi6fkNjmA/o.jpg', 'is_closed': False, 'url': 'https://www.yelp.com/biz/silk-road-london-2?adjust_creative=VN8Dg6kIKfnJKOflOqsscA&utm_campaign=yelp_api_v3&utm_medium=api_v3_business_search&utm_source=VN8Dg6kIKfnJKOflOqsscA', 'review_count': 43, 'categories': [{'alias': 'chinese', 'title': 'Chinese'}], 'rating': 4.5, 'coordinates': {'latitude': 51.4739712, 'longitude': -0.0896081}, 'transactions': [], 'price': '££', 'location': {'address1': '49 Camberwell Church Street', 'address2': '', 'address3': '', 'city': 'London', 'zip_code': 'SE5 8TR', 'country': 'GB', 'state': 'XGL', 'display_address': ['49 Camberwell Church Street', 'London SE5 8TR', 'United Kingdom']}, 'phone': '+442077034832', 'display_phone': '+44 20 7703 4832', 'distance': 5403.445838977789}, {'id': 'Mrv3dA42EioqBz50t_f24Q', 'alias': 'hunan-london', 'name': 'Hunan', 'image_url': 'https://s3-media3.fl.yelpcdn.com/bphoto/sEgrRrMVkWaky7Yc7dvdgg/o.jpg', 'is_closed': False, 'url': 'https://www.yelp.com/biz/hunan-london?adjust_creative=VN8Dg6kIKfnJKOflOqsscA&utm_campaign=yelp_api_v3&utm_medium=api_v3_business_search&utm_source=VN8Dg6kIKfnJKOflOqsscA', 'review_count': 38, 'categories': [{'alias': 'chinese', 'title': 'Chinese'}], 'rating': 4.5, 'coordinates': {'latitude': 51.490493, 'longitude': -0.1526547}, 'transactions': [], 'price': '££££', 'location': {'address1': '51 Pimlico Road', 'address2': '', 'address3': '', 'city': 'London', 'zip_code': 'SW1W 8NE', 'country': 'GB', 'state': 'XGL', 'display_address': ['51 Pimlico Road', 'London SW1W 8NE', 'United Kingdom']}, 'phone': '+442077305712', 'display_phone': '+44 20 7730 5712', 'distance': 2741.6022690860036}, {'id': 'MpdG-D0nKwGEZp0ApTtBaA', 'alias': 'barshu-london-2', 'name': 'Barshu', 'image_url': 'https://s3-media2.fl.yelpcdn.com/bphoto/jaGznOhEvqqcJXKCYt12Ug/o.jpg', 'is_closed': False, 'url': 'https://www.yelp.com/biz/barshu-london-2?adjust_creative=VN8Dg6kIKfnJKOflOqsscA&utm_campaign=yelp_api_v3&utm_medium=api_v3_business_search&utm_source=VN8Dg6kIKfnJKOflOqsscA', 'review_count': 96, 'categories': [{'alias': 'szechuan', 'title': 'Szechuan'}], 'rating': 4.0, 'coordinates': {'latitude': 51.512835, 'longitude': -0.130857}, 'transactions': [], 'price': '£££', 'location': {'address1': '28 Frith Street', 'address2': '', 'address3': '', 'city': 'London', 'zip_code': 'W1D 5LF', 'country': 'GB', 'state': 'XGL', 'display_address': ['28 Frith Street', 'London W1D 5LF', 'United Kingdom']}, 'phone': '+442072878822', 'display_phone': '+44 20 7287 8822', 'distance': 357.1885184880618}, {'id': '5-_YNjtvoG-oYt1qAO3tVw', 'alias': 'bugis-street-brasserie-london', 'name': 'Bugis Street Brasserie', 'image_url': 'https://s3-media1.fl.yelpcdn.com/bphoto/kgtAwZ3oF2wh05ndSzQ1zA/o.jpg', 'is_closed': False, 'url': 'https://www.yelp.com/biz/bugis-street-brasserie-london?adjust_creative=VN8Dg6kIKfnJKOflOqsscA&utm_campaign=yelp_api_v3&utm_medium=api_v3_business_search&utm_source=VN8Dg6kIKfnJKOflOqsscA', 'review_count': 44, 'categories': [{'alias': 'chinese', 'title': 'Chinese'}, {'alias': 'singaporean', 'title': 'Singaporean'}], 'rating': 4.0, 'coordinates': {'latitude': 51.4936621211568, 'longitude': -0.183931280273902}, 'transactions': [], 'price': '££', 'location': {'address1': 'Millennium Hotels & Resorts', 'address2': '4-18 Harrington Gardens', 'address3': '', 'city': 'London', 'zip_code': 'SW7 4LH', 'country': 'GB', 'state': 'XGL', 'display_address': ['Millennium Hotels & Resorts', '4-18 Harrington Gardens', 'London SW7 4LH', 'United Kingdom']}, 'phone': '+442073316211', 'display_phone': '+44 20 7331 6211', 'distance': 3946.1405823998143}, {'id': '3ea8x8r0gsVy8ltQycldsA', 'alias': 'gold-mine-london', 'name': 'Gold Mine', 'image_url': 'https://s3-media2.fl.yelpcdn.com/bphoto/aihm1QdPS5Mq79T_9rP7tA/o.jpg', 'is_closed': False, 'url': 'https://www.yelp.com/biz/gold-mine-london?adjust_creative=VN8Dg6kIKfnJKOflOqsscA&utm_campaign=yelp_api_v3&utm_medium=api_v3_business_search&utm_source=VN8Dg6kIKfnJKOflOqsscA', 'review_count': 69, 'categories': [{'alias': 'chinese', 'title': 'Chinese'}], 'rating': 4.0, 'coordinates': {'latitude': 51.5133018493652, 'longitude': -0.187491998076439}, 'transactions': [], 'price': '££', 'location': {'address1': '102 Queensway', 'address2': '', 'address3': '', 'city': 'London', 'zip_code': 'W2 3RR', 'country': 'GB', 'state': 'XGL', 'display_address': ['102 Queensway', 'London W2 3RR', 'United Kingdom']}, 'phone': '+442077928331', 'display_phone': '+44 20 7792 8331', 'distance': 3571.4713192257427}, {'id': 'Aar0fS6vSWRhQc7WddYagg', 'alias': 'xian-impressions-london', 'name': \"Xi'an Impressions\", 'image_url': 'https://s3-media4.fl.yelpcdn.com/bphoto/VDbI_euzpp8AfjMF2-ndIw/o.jpg', 'is_closed': False, 'url': 'https://www.yelp.com/biz/xian-impressions-london?adjust_creative=VN8Dg6kIKfnJKOflOqsscA&utm_campaign=yelp_api_v3&utm_medium=api_v3_business_search&utm_source=VN8Dg6kIKfnJKOflOqsscA', 'review_count': 26, 'categories': [{'alias': 'szechuan', 'title': 'Szechuan'}], 'rating': 4.5, 'coordinates': {'latitude': 51.5539006581936, 'longitude': -0.110344699913454}, 'transactions': [], 'price': '££', 'location': {'address1': '117 Benwell Road', 'address2': '', 'address3': '', 'city': 'London', 'zip_code': 'N7 7BW', 'country': 'GB', 'state': 'XGL', 'display_address': ['117 Benwell Road', 'London N7 7BW', 'United Kingdom']}, 'phone': '+442034410191', 'display_phone': '+44 20 3441 0191', 'distance': 4897.827262129786}, {'id': '2NdnxONuSAsDkQPhU919tQ', 'alias': 'royal-china-london-2', 'name': 'Royal China', 'image_url': 'https://s3-media3.fl.yelpcdn.com/bphoto/Mpn3L7JpUdeAJqG0d7Ub3w/o.jpg', 'is_closed': False, 'url': 'https://www.yelp.com/biz/royal-china-london-2?adjust_creative=VN8Dg6kIKfnJKOflOqsscA&utm_campaign=yelp_api_v3&utm_medium=api_v3_business_search&utm_source=VN8Dg6kIKfnJKOflOqsscA', 'review_count': 96, 'categories': [{'alias': 'dimsum', 'title': 'Dim Sum'}], 'rating': 4.0, 'coordinates': {'latitude': 51.5105005571439, 'longitude': -0.187244316153717}, 'transactions': [], 'price': '££', 'location': {'address1': '13 Queensway', 'address2': '', 'address3': '', 'city': 'London', 'zip_code': 'W2 4QJ', 'country': 'GB', 'state': 'XGL', 'display_address': ['13 Queensway', 'London W2 4QJ', 'United Kingdom']}, 'phone': '+442072212535', 'display_phone': '+44 20 7221 2535', 'distance': 3558.785103799373}, {'id': 'AwwZIdmScSHhM54Wh8P8JQ', 'alias': 'chi-noodle-london', 'name': 'Chi Noodle', 'image_url': 'https://s3-media1.fl.yelpcdn.com/bphoto/Wk6KBsJ4SWYtUSBDm1xljg/o.jpg', 'is_closed': False, 'url': 'https://www.yelp.com/biz/chi-noodle-london?adjust_creative=VN8Dg6kIKfnJKOflOqsscA&utm_campaign=yelp_api_v3&utm_medium=api_v3_business_search&utm_source=VN8Dg6kIKfnJKOflOqsscA', 'review_count': 29, 'categories': [{'alias': 'chinese', 'title': 'Chinese'}, {'alias': 'bars', 'title': 'Bars'}], 'rating': 4.0, 'coordinates': {'latitude': 51.5135092, 'longitude': -0.1053698}, 'transactions': [], 'price': '££', 'location': {'address1': '5 New Bridge Street', 'address2': 'Bride Court', 'address3': None, 'city': 'London', 'zip_code': 'EC4V 6AB', 'country': 'GB', 'state': 'XGL', 'display_address': ['5 New Bridge Street', 'Bride Court', 'London EC4V 6AB', 'United Kingdom']}, 'phone': '+442073532409', 'display_phone': '+44 20 7353 2409', 'distance': 2117.888856995979}, {'id': 'xriXls0Dn4ru2ODF6fDWhQ', 'alias': 'sichuan-folk-london', 'name': 'Sichuan Folk', 'image_url': 'https://s3-media3.fl.yelpcdn.com/bphoto/nb1TNrVfOvCpUW1pS_MVrw/o.jpg', 'is_closed': False, 'url': 'https://www.yelp.com/biz/sichuan-folk-london?adjust_creative=VN8Dg6kIKfnJKOflOqsscA&utm_campaign=yelp_api_v3&utm_medium=api_v3_business_search&utm_source=VN8Dg6kIKfnJKOflOqsscA', 'review_count': 65, 'categories': [{'alias': 'chinese', 'title': 'Chinese'}], 'rating': 4.0, 'coordinates': {'latitude': 51.520178, 'longitude': -0.072425}, 'transactions': [], 'price': '££', 'location': {'address1': '32 Hanbury Street', 'address2': '', 'address3': '', 'city': 'London', 'zip_code': 'E1 6QR', 'country': 'GB', 'state': 'XGL', 'display_address': ['32 Hanbury Street', 'London E1 6QR', 'United Kingdom']}, 'phone': '+442072474735', 'display_phone': '+44 20 7247 4735', 'distance': 4471.20821766474}, {'id': 'aOSZ-xTyLrR2LX6-Wgf6OQ', 'alias': 'joy-king-lau-london', 'name': 'Joy King Lau', 'image_url': 'https://s3-media3.fl.yelpcdn.com/bphoto/QQcW0ZyAGbk89Ik20nmSpQ/o.jpg', 'is_closed': False, 'url': 'https://www.yelp.com/biz/joy-king-lau-london?adjust_creative=VN8Dg6kIKfnJKOflOqsscA&utm_campaign=yelp_api_v3&utm_medium=api_v3_business_search&utm_source=VN8Dg6kIKfnJKOflOqsscA', 'review_count': 133, 'categories': [{'alias': 'dimsum', 'title': 'Dim Sum'}], 'rating': 4.0, 'coordinates': {'latitude': 51.511104, 'longitude': -0.13113}, 'transactions': [], 'price': '££', 'location': {'address1': '3 Leicester Street', 'address2': '', 'address3': '', 'city': 'London', 'zip_code': 'WC2H 7BL', 'country': 'GB', 'state': 'XGL', 'display_address': ['3 Leicester Street', 'London WC2H 7BL', 'United Kingdom']}, 'phone': '+442074371132', 'display_phone': '+44 20 7437 1132', 'distance': 385.48318993171404}, {'id': '3EZWvxhLjYEqAQyg1VJ9Zg', 'alias': 'dragon-castle-london', 'name': 'Dragon Castle', 'image_url': 'https://s3-media1.fl.yelpcdn.com/bphoto/qF_dr86TN3GIToGO6lhZFA/o.jpg', 'is_closed': False, 'url': 'https://www.yelp.com/biz/dragon-castle-london?adjust_creative=VN8Dg6kIKfnJKOflOqsscA&utm_campaign=yelp_api_v3&utm_medium=api_v3_business_search&utm_source=VN8Dg6kIKfnJKOflOqsscA', 'review_count': 46, 'categories': [{'alias': 'dimsum', 'title': 'Dim Sum'}, {'alias': 'cantonese', 'title': 'Cantonese'}], 'rating': 4.0, 'coordinates': {'latitude': 51.492101, 'longitude': -0.098573}, 'transactions': [], 'price': '££', 'location': {'address1': '100 Walworth Road', 'address2': '', 'address3': '', 'city': 'London', 'zip_code': 'SE17 1JL', 'country': 'GB', 'state': 'XGL', 'display_address': ['100 Walworth Road', 'London SE17 1JL', 'United Kingdom']}, 'phone': '+442072773388', 'display_phone': '+44 20 7277 3388', 'distance': 3484.935669306307}, {'id': 'vtFvSTgUW9KICwDGtnQSug', 'alias': 'canton-element-london', 'name': 'Canton Element', 'image_url': 'https://s3-media4.fl.yelpcdn.com/bphoto/MMHfsdoHDpCmigvBr6y9bA/o.jpg', 'is_closed': False, 'url': 'https://www.yelp.com/biz/canton-element-london?adjust_creative=VN8Dg6kIKfnJKOflOqsscA&utm_campaign=yelp_api_v3&utm_medium=api_v3_business_search&utm_source=VN8Dg6kIKfnJKOflOqsscA', 'review_count': 11, 'categories': [{'alias': 'chinese', 'title': 'Chinese'}, {'alias': 'karaoke', 'title': 'Karaoke'}], 'rating': 4.5, 'coordinates': {'latitude': 51.519862, 'longitude': -0.117582}, 'transactions': [], 'price': '££', 'location': {'address1': '48 Red Lion Street', 'address2': '', 'address3': '', 'city': 'London', 'zip_code': 'WC1R 4PF', 'country': 'GB', 'state': 'XGL', 'display_address': ['48 Red Lion Street', 'London WC1R 4PF', 'United Kingdom']}, 'phone': '+442072421515', 'display_phone': '+44 20 7242 1515', 'distance': 1501.0470490724267}, {'id': '4wnP2JAuR92yoS3TybKyRA', 'alias': 'bun-house-london', 'name': 'Bun House', 'image_url': 'https://s3-media2.fl.yelpcdn.com/bphoto/0pEoyRDbUPkPRs3D7wBS4A/o.jpg', 'is_closed': False, 'url': 'https://www.yelp.com/biz/bun-house-london?adjust_creative=VN8Dg6kIKfnJKOflOqsscA&utm_campaign=yelp_api_v3&utm_medium=api_v3_business_search&utm_source=VN8Dg6kIKfnJKOflOqsscA', 'review_count': 29, 'categories': [{'alias': 'chinese', 'title': 'Chinese'}], 'rating': 4.0, 'coordinates': {'latitude': 51.51365, 'longitude': -0.130452}, 'transactions': [], 'price': '££', 'location': {'address1': '23-24 Greek Street', 'address2': 'Soho', 'address3': None, 'city': 'London', 'zip_code': 'W1D 4DZ', 'country': 'GB', 'state': 'XGL', 'display_address': ['23-24 Greek Street', 'Soho', 'London W1D 4DZ', 'United Kingdom']}, 'phone': '+442080179888', 'display_phone': '+44 20 8017 9888', 'distance': 391.48496685335056}, {'id': 'hdp4iZf_iUmYzDrvHjblPw', 'alias': 'the-duck-and-rice-london', 'name': 'The Duck and Rice', 'image_url': 'https://s3-media4.fl.yelpcdn.com/bphoto/8JaqXM1qCqWTdqzIphfJ1Q/o.jpg', 'is_closed': False, 'url': 'https://www.yelp.com/biz/the-duck-and-rice-london?adjust_creative=VN8Dg6kIKfnJKOflOqsscA&utm_campaign=yelp_api_v3&utm_medium=api_v3_business_search&utm_source=VN8Dg6kIKfnJKOflOqsscA', 'review_count': 58, 'categories': [{'alias': 'chinese', 'title': 'Chinese'}, {'alias': 'bars', 'title': 'Bars'}], 'rating': 4.0, 'coordinates': {'latitude': 51.513487, 'longitude': -0.135082}, 'transactions': [], 'price': '£££', 'location': {'address1': '90 Berwick Street', 'address2': '', 'address3': '', 'city': 'London', 'zip_code': 'W1F 0QB', 'country': 'GB', 'state': 'XGL', 'display_address': ['90 Berwick Street', 'London W1F 0QB', 'United Kingdom']}, 'phone': '+442033277888', 'display_phone': '+44 20 3327 7888', 'distance': 98.56398403934607}, {'id': 'heTzmXTNQeuXvVhdpFJwaA', 'alias': 'princess-garden-of-mayfair-london', 'name': 'Princess Garden Of Mayfair', 'image_url': 'https://s3-media3.fl.yelpcdn.com/bphoto/zmKhu0P6idUlm8G14Q9B-Q/o.jpg', 'is_closed': False, 'url': 'https://www.yelp.com/biz/princess-garden-of-mayfair-london?adjust_creative=VN8Dg6kIKfnJKOflOqsscA&utm_campaign=yelp_api_v3&utm_medium=api_v3_business_search&utm_source=VN8Dg6kIKfnJKOflOqsscA', 'review_count': 51, 'categories': [{'alias': 'chinese', 'title': 'Chinese'}], 'rating': 4.0, 'coordinates': {'latitude': 51.512773, 'longitude': -0.153083}, 'transactions': [], 'price': '£££', 'location': {'address1': '8-10 N Audley Street', 'address2': '', 'address3': '', 'city': 'London', 'zip_code': 'W1K 6ZD', 'country': 'GB', 'state': 'XGL', 'display_address': ['8-10 N Audley Street', 'London W1K 6ZD', 'United Kingdom']}, 'phone': '+442074933223', 'display_phone': '+44 20 7493 3223', 'distance': 1190.7587274700359}], 'total': 1200, 'region': {'center': {'longitude': -0.135955810546875, 'latitude': 51.51283552118349}}}\n"
     ]
    }
   ],
   "source": [
    "# Make an API call using chosen term and location\n",
    "\n",
    "response = response\n",
    "print(response)\n"
   ]
  },
  {
   "cell_type": "markdown",
   "metadata": {},
   "source": [
    "### JSON .. again ! \n",
    "\n",
    "We have a nice nifty little return now! As you can see, the contents of the response is formatted as a string but what kind of data structures does this remind you of?  \n",
    "\n",
    "To start there's the outer curly brackets:  \n",
    "\n",
    "#### {\"businesses\":   \n",
    "\n",
    "Hopefully you're thinking 'hey that's just like a python dictionary!'\n",
    "\n",
    "Then within that we have what appears to be a list of dictionaries:  \n",
    "\n",
    "#### {\"id\": \"jeWIYbgBho9vBDhc5S1xvg\",\n",
    "\n",
    "This response is an example of a JSON (JavaScript Object Notation) format that we've seen so many times before. We can simply treat it as a dictionary and process it further. "
   ]
  },
  {
   "cell_type": "markdown",
   "metadata": {},
   "source": [
    "### Inspect the values for all the keys in the response"
   ]
  },
  {
   "cell_type": "code",
   "execution_count": 11,
   "metadata": {},
   "outputs": [
    {
     "data": {
      "text/plain": [
       "dict"
      ]
     },
     "execution_count": 11,
     "metadata": {},
     "output_type": "execute_result"
    }
   ],
   "source": [
    "# inspect the key value pairs to understand the strcuture of data \n",
    "\n",
    "type(response)"
   ]
  },
  {
   "cell_type": "markdown",
   "metadata": {},
   "source": [
    "Whoops, what's going on here!? Well, notice from our previous preview of the response that we saw there were a hierarhcy within the response. Let's begin to investigate further to see what the problem is.\n",
    "\n",
    "First, recall that the overall strucutre of the response was a dictionary. Let's look at what the keys are:"
   ]
  },
  {
   "cell_type": "code",
   "execution_count": 12,
   "metadata": {},
   "outputs": [
    {
     "data": {
      "text/plain": [
       "dict_keys(['businesses', 'total', 'region'])"
      ]
     },
     "execution_count": 12,
     "metadata": {},
     "output_type": "execute_result"
    }
   ],
   "source": [
    "response.keys()"
   ]
  },
  {
   "cell_type": "markdown",
   "metadata": {},
   "source": [
    "Consult the Yelp API and learn what value is carried in each key. \n",
    "\n",
    "#### Continue to preview these keys  further to get a little better acquainted. "
   ]
  },
  {
   "cell_type": "code",
   "execution_count": 14,
   "metadata": {},
   "outputs": [
    {
     "name": "stdout",
     "output_type": "stream",
     "text": [
      "BUSINESS: {'id': 'h2cCoDNQOPd51HFwvuAGNg', 'alias': 'hakkasan-london-3', 'name': 'Hakkasan', 'image_url': 'https://s3-media2.fl.yelpcdn.com/bphoto/IcS9yzJnweDO4DsfJ94jAw/o.jpg', 'is_closed': False, 'url': 'https://www.yelp.com/biz/hakkasan-london-3?adjust_creative=VN8Dg6kIKfnJKOflOqsscA&utm_campaign=yelp_api_v3&utm_medium=api_v3_business_search&utm_source=VN8Dg6kIKfnJKOflOqsscA', 'review_count': 219, 'categories': [{'alias': 'cantonese', 'title': 'Cantonese'}], 'rating': 4.0, 'coordinates': {'latitude': 51.5171482803943, 'longitude': -0.13180578932657}, 'transactions': [], 'price': '££££', 'location': {'address1': '8 Hanway Place', 'address2': '', 'address3': '', 'city': 'London', 'zip_code': 'W1T 1HD', 'country': 'GB', 'state': 'XGL', 'display_address': ['8 Hanway Place', 'London W1T 1HD', 'United Kingdom']}, 'phone': '+442079277000', 'display_phone': '+44 20 7927 7000', 'distance': 558.9650039747677}\n"
     ]
    }
   ],
   "source": [
    "print('BUSINESS:', response['businesses'][0])"
   ]
  },
  {
   "cell_type": "code",
   "execution_count": 15,
   "metadata": {},
   "outputs": [
    {
     "name": "stdout",
     "output_type": "stream",
     "text": [
      "REGION: {'center': {'longitude': -0.135955810546875, 'latitude': 51.51283552118349}}\n"
     ]
    }
   ],
   "source": [
    "print('REGION:', response['region'])\n"
   ]
  },
  {
   "cell_type": "code",
   "execution_count": 16,
   "metadata": {},
   "outputs": [
    {
     "name": "stdout",
     "output_type": "stream",
     "text": [
      "TOTAL : 1200\n"
     ]
    }
   ],
   "source": [
    "print('TOTAL :',response['total'])"
   ]
  },
  {
   "cell_type": "code",
   "execution_count": null,
   "metadata": {},
   "outputs": [],
   "source": []
  },
  {
   "cell_type": "markdown",
   "metadata": {},
   "source": [
    "This makes more sense, so we are mainly interested in the `businesses` for our needs. \n",
    "\n",
    "### Print the names of businesses and included ratings "
   ]
  },
  {
   "cell_type": "code",
   "execution_count": 17,
   "metadata": {},
   "outputs": [
    {
     "name": "stdout",
     "output_type": "stream",
     "text": [
      "Hakkasan 4.0\n",
      "Bamboo Flute 4.5\n",
      "Yauatcha 4.0\n",
      "Lanzhou Noodle Bar 4.0\n",
      "Hakkasan Mayfair 4.0\n",
      "Silk Road 4.5\n",
      "Hunan 4.5\n",
      "Barshu 4.0\n",
      "Bugis Street Brasserie 4.0\n",
      "Gold Mine 4.0\n",
      "Xi'an Impressions 4.5\n",
      "Royal China 4.0\n",
      "Chi Noodle 4.0\n",
      "Sichuan Folk 4.0\n",
      "Joy King Lau 4.0\n",
      "Dragon Castle 4.0\n",
      "Canton Element 4.5\n",
      "Bun House 4.0\n",
      "The Duck and Rice 4.0\n",
      "Princess Garden Of Mayfair 4.0\n"
     ]
    }
   ],
   "source": [
    "for business in response['businesses']:\n",
    "    print (business['name'], business['rating'])"
   ]
  },
  {
   "cell_type": "markdown",
   "metadata": {},
   "source": [
    "Great, now are are getting somewhere. It is a good idea at this stage to store this information as a dataframe for processing further. \n",
    "### Create a Pandas dataframe for contents of `businesses`\n",
    "* Check the number of records in the dataframe\n",
    "* Inspect the columns and head"
   ]
  },
  {
   "cell_type": "code",
   "execution_count": 18,
   "metadata": {
    "scrolled": false
   },
   "outputs": [],
   "source": [
    "import pandas as pd"
   ]
  },
  {
   "cell_type": "code",
   "execution_count": 19,
   "metadata": {},
   "outputs": [
    {
     "data": {
      "text/html": [
       "<div>\n",
       "<style scoped>\n",
       "    .dataframe tbody tr th:only-of-type {\n",
       "        vertical-align: middle;\n",
       "    }\n",
       "\n",
       "    .dataframe tbody tr th {\n",
       "        vertical-align: top;\n",
       "    }\n",
       "\n",
       "    .dataframe thead th {\n",
       "        text-align: right;\n",
       "    }\n",
       "</style>\n",
       "<table border=\"1\" class=\"dataframe\">\n",
       "  <thead>\n",
       "    <tr style=\"text-align: right;\">\n",
       "      <th></th>\n",
       "      <th>alias</th>\n",
       "      <th>categories</th>\n",
       "      <th>coordinates</th>\n",
       "      <th>display_phone</th>\n",
       "      <th>distance</th>\n",
       "      <th>id</th>\n",
       "      <th>image_url</th>\n",
       "      <th>is_closed</th>\n",
       "      <th>location</th>\n",
       "      <th>name</th>\n",
       "      <th>phone</th>\n",
       "      <th>price</th>\n",
       "      <th>rating</th>\n",
       "      <th>review_count</th>\n",
       "      <th>transactions</th>\n",
       "      <th>url</th>\n",
       "    </tr>\n",
       "  </thead>\n",
       "  <tbody>\n",
       "    <tr>\n",
       "      <th>0</th>\n",
       "      <td>hakkasan-london-3</td>\n",
       "      <td>[{'alias': 'cantonese', 'title': 'Cantonese'}]</td>\n",
       "      <td>{'latitude': 51.5171482803943, 'longitude': -0...</td>\n",
       "      <td>+44 20 7927 7000</td>\n",
       "      <td>558.965004</td>\n",
       "      <td>h2cCoDNQOPd51HFwvuAGNg</td>\n",
       "      <td>https://s3-media2.fl.yelpcdn.com/bphoto/IcS9yz...</td>\n",
       "      <td>False</td>\n",
       "      <td>{'address1': '8 Hanway Place', 'address2': '',...</td>\n",
       "      <td>Hakkasan</td>\n",
       "      <td>+442079277000</td>\n",
       "      <td>££££</td>\n",
       "      <td>4.0</td>\n",
       "      <td>219</td>\n",
       "      <td>[]</td>\n",
       "      <td>https://www.yelp.com/biz/hakkasan-london-3?adj...</td>\n",
       "    </tr>\n",
       "    <tr>\n",
       "      <th>1</th>\n",
       "      <td>bamboo-flute-fitzrovia</td>\n",
       "      <td>[{'alias': 'chinese', 'title': 'Chinese'}]</td>\n",
       "      <td>{'latitude': 51.5228746, 'longitude': -0.1418939}</td>\n",
       "      <td>+44 20 7387 2738</td>\n",
       "      <td>1189.508255</td>\n",
       "      <td>QE5aa5N-dbfvafLsjn7TVg</td>\n",
       "      <td>https://s3-media3.fl.yelpcdn.com/bphoto/kYQZjH...</td>\n",
       "      <td>False</td>\n",
       "      <td>{'address1': '145 Cleveland Street', 'address2...</td>\n",
       "      <td>Bamboo Flute</td>\n",
       "      <td>+442073872738</td>\n",
       "      <td>£</td>\n",
       "      <td>4.5</td>\n",
       "      <td>28</td>\n",
       "      <td>[]</td>\n",
       "      <td>https://www.yelp.com/biz/bamboo-flute-fitzrovi...</td>\n",
       "    </tr>\n",
       "    <tr>\n",
       "      <th>2</th>\n",
       "      <td>yauatcha-london-7</td>\n",
       "      <td>[{'alias': 'dimsum', 'title': 'Dim Sum'}, {'al...</td>\n",
       "      <td>{'latitude': 51.5137076071076, 'longitude': -0...</td>\n",
       "      <td>+44 20 7494 8888</td>\n",
       "      <td>112.598410</td>\n",
       "      <td>sYwBQ7mJYhB35nn-_SZstQ</td>\n",
       "      <td>https://s3-media1.fl.yelpcdn.com/bphoto/G7Ydt9...</td>\n",
       "      <td>False</td>\n",
       "      <td>{'address1': '15-17 Broadwick Street', 'addres...</td>\n",
       "      <td>Yauatcha</td>\n",
       "      <td>+442074948888</td>\n",
       "      <td>£££</td>\n",
       "      <td>4.0</td>\n",
       "      <td>459</td>\n",
       "      <td>[]</td>\n",
       "      <td>https://www.yelp.com/biz/yauatcha-london-7?adj...</td>\n",
       "    </tr>\n",
       "    <tr>\n",
       "      <th>3</th>\n",
       "      <td>lanzhou-noodle-bar-london</td>\n",
       "      <td>[{'alias': 'chinese', 'title': 'Chinese'}, {'a...</td>\n",
       "      <td>{'latitude': 51.5116034713013, 'longitude': -0...</td>\n",
       "      <td>+44 20 7467 4546</td>\n",
       "      <td>578.474355</td>\n",
       "      <td>pdFiFtol9YI__9ROOXUIYA</td>\n",
       "      <td>https://s3-media4.fl.yelpcdn.com/bphoto/OMre4T...</td>\n",
       "      <td>False</td>\n",
       "      <td>{'address1': '33 Cranbourne Street', 'address2...</td>\n",
       "      <td>Lanzhou Noodle Bar</td>\n",
       "      <td>+442074674546</td>\n",
       "      <td>£</td>\n",
       "      <td>4.0</td>\n",
       "      <td>310</td>\n",
       "      <td>[]</td>\n",
       "      <td>https://www.yelp.com/biz/lanzhou-noodle-bar-lo...</td>\n",
       "    </tr>\n",
       "    <tr>\n",
       "      <th>4</th>\n",
       "      <td>hakkasan-mayfair-london-2</td>\n",
       "      <td>[{'alias': 'chinese', 'title': 'Chinese'}]</td>\n",
       "      <td>{'latitude': 51.5103202323384, 'longitude': -0...</td>\n",
       "      <td>+44 20 7907 1888</td>\n",
       "      <td>681.445072</td>\n",
       "      <td>chEEcQbc8PbidTeXK34H9g</td>\n",
       "      <td>https://s3-media2.fl.yelpcdn.com/bphoto/LX_W20...</td>\n",
       "      <td>False</td>\n",
       "      <td>{'address1': '17 Bruton Street', 'address2': '...</td>\n",
       "      <td>Hakkasan Mayfair</td>\n",
       "      <td>+442079071888</td>\n",
       "      <td>££££</td>\n",
       "      <td>4.0</td>\n",
       "      <td>117</td>\n",
       "      <td>[]</td>\n",
       "      <td>https://www.yelp.com/biz/hakkasan-mayfair-lond...</td>\n",
       "    </tr>\n",
       "  </tbody>\n",
       "</table>\n",
       "</div>"
      ],
      "text/plain": [
       "                       alias  \\\n",
       "0          hakkasan-london-3   \n",
       "1     bamboo-flute-fitzrovia   \n",
       "2          yauatcha-london-7   \n",
       "3  lanzhou-noodle-bar-london   \n",
       "4  hakkasan-mayfair-london-2   \n",
       "\n",
       "                                          categories  \\\n",
       "0     [{'alias': 'cantonese', 'title': 'Cantonese'}]   \n",
       "1         [{'alias': 'chinese', 'title': 'Chinese'}]   \n",
       "2  [{'alias': 'dimsum', 'title': 'Dim Sum'}, {'al...   \n",
       "3  [{'alias': 'chinese', 'title': 'Chinese'}, {'a...   \n",
       "4         [{'alias': 'chinese', 'title': 'Chinese'}]   \n",
       "\n",
       "                                         coordinates     display_phone  \\\n",
       "0  {'latitude': 51.5171482803943, 'longitude': -0...  +44 20 7927 7000   \n",
       "1  {'latitude': 51.5228746, 'longitude': -0.1418939}  +44 20 7387 2738   \n",
       "2  {'latitude': 51.5137076071076, 'longitude': -0...  +44 20 7494 8888   \n",
       "3  {'latitude': 51.5116034713013, 'longitude': -0...  +44 20 7467 4546   \n",
       "4  {'latitude': 51.5103202323384, 'longitude': -0...  +44 20 7907 1888   \n",
       "\n",
       "      distance                      id  \\\n",
       "0   558.965004  h2cCoDNQOPd51HFwvuAGNg   \n",
       "1  1189.508255  QE5aa5N-dbfvafLsjn7TVg   \n",
       "2   112.598410  sYwBQ7mJYhB35nn-_SZstQ   \n",
       "3   578.474355  pdFiFtol9YI__9ROOXUIYA   \n",
       "4   681.445072  chEEcQbc8PbidTeXK34H9g   \n",
       "\n",
       "                                           image_url  is_closed  \\\n",
       "0  https://s3-media2.fl.yelpcdn.com/bphoto/IcS9yz...      False   \n",
       "1  https://s3-media3.fl.yelpcdn.com/bphoto/kYQZjH...      False   \n",
       "2  https://s3-media1.fl.yelpcdn.com/bphoto/G7Ydt9...      False   \n",
       "3  https://s3-media4.fl.yelpcdn.com/bphoto/OMre4T...      False   \n",
       "4  https://s3-media2.fl.yelpcdn.com/bphoto/LX_W20...      False   \n",
       "\n",
       "                                            location                name  \\\n",
       "0  {'address1': '8 Hanway Place', 'address2': '',...            Hakkasan   \n",
       "1  {'address1': '145 Cleveland Street', 'address2...        Bamboo Flute   \n",
       "2  {'address1': '15-17 Broadwick Street', 'addres...            Yauatcha   \n",
       "3  {'address1': '33 Cranbourne Street', 'address2...  Lanzhou Noodle Bar   \n",
       "4  {'address1': '17 Bruton Street', 'address2': '...    Hakkasan Mayfair   \n",
       "\n",
       "           phone price  rating  review_count transactions  \\\n",
       "0  +442079277000  ££££     4.0           219           []   \n",
       "1  +442073872738     £     4.5            28           []   \n",
       "2  +442074948888   £££     4.0           459           []   \n",
       "3  +442074674546     £     4.0           310           []   \n",
       "4  +442079071888  ££££     4.0           117           []   \n",
       "\n",
       "                                                 url  \n",
       "0  https://www.yelp.com/biz/hakkasan-london-3?adj...  \n",
       "1  https://www.yelp.com/biz/bamboo-flute-fitzrovi...  \n",
       "2  https://www.yelp.com/biz/yauatcha-london-7?adj...  \n",
       "3  https://www.yelp.com/biz/lanzhou-noodle-bar-lo...  \n",
       "4  https://www.yelp.com/biz/hakkasan-mayfair-lond...  "
      ]
     },
     "execution_count": 19,
     "metadata": {},
     "output_type": "execute_result"
    }
   ],
   "source": [
    "df = pd.DataFrame(response['businesses'])\n",
    "df.head()"
   ]
  },
  {
   "cell_type": "code",
   "execution_count": null,
   "metadata": {},
   "outputs": [],
   "source": []
  },
  {
   "cell_type": "code",
   "execution_count": null,
   "metadata": {},
   "outputs": [],
   "source": []
  },
  {
   "cell_type": "markdown",
   "metadata": {},
   "source": [
    "This is fantastic. We have successfully learned a new API , made requests to it, recieved and studied the response and stored the results in a dataframe and can now enjoy all the goodness of Pandas. Thats quite a bit of data engineering. \n",
    "\n",
    "### Visualize the location from search query\n",
    "The `region` key in the response carries the geographical information for the region searched.\n",
    "* Get the latitude / longitude information from `region`\n",
    "* Create a folium map with these coordinates. \n",
    "* Use a zoom start value = 13"
   ]
  },
  {
   "cell_type": "code",
   "execution_count": 21,
   "metadata": {},
   "outputs": [
    {
     "name": "stdout",
     "output_type": "stream",
     "text": [
      "Collecting folium\n",
      "\u001b[?25l  Downloading https://files.pythonhosted.org/packages/55/e2/7e523df8558b7f4b2ab4c62014fd378ccecce3fdc14c9928b272a88ae4cc/folium-0.7.0-py3-none-any.whl (85kB)\n",
      "\u001b[K    100% |████████████████████████████████| 92kB 1.3MB/s ta 0:00:011\n",
      "\u001b[?25hCollecting branca>=0.3.0 (from folium)\n",
      "  Downloading https://files.pythonhosted.org/packages/63/36/1c93318e9653f4e414a2e0c3b98fc898b4970e939afeedeee6075dd3b703/branca-0.3.1-py3-none-any.whl\n",
      "Requirement already satisfied: requests in /Users/natalia/anaconda3/envs/learn-env/lib/python3.6/site-packages (from folium) (2.19.1)\n",
      "Requirement already satisfied: jinja2 in /Users/natalia/anaconda3/envs/learn-env/lib/python3.6/site-packages (from folium) (2.10)\n",
      "Requirement already satisfied: numpy in /Users/natalia/anaconda3/envs/learn-env/lib/python3.6/site-packages (from folium) (1.15.0)\n",
      "Requirement already satisfied: six in /Users/natalia/anaconda3/envs/learn-env/lib/python3.6/site-packages (from folium) (1.11.0)\n",
      "Requirement already satisfied: certifi>=2017.4.17 in /Users/natalia/anaconda3/envs/learn-env/lib/python3.6/site-packages (from requests->folium) (2018.8.13)\n",
      "Requirement already satisfied: idna<2.8,>=2.5 in /Users/natalia/anaconda3/envs/learn-env/lib/python3.6/site-packages (from requests->folium) (2.7)\n",
      "Requirement already satisfied: chardet<3.1.0,>=3.0.2 in /Users/natalia/anaconda3/envs/learn-env/lib/python3.6/site-packages (from requests->folium) (3.0.4)\n",
      "Requirement already satisfied: urllib3<1.24,>=1.21.1 in /Users/natalia/anaconda3/envs/learn-env/lib/python3.6/site-packages (from requests->folium) (1.23)\n",
      "Requirement already satisfied: MarkupSafe>=0.23 in /Users/natalia/anaconda3/envs/learn-env/lib/python3.6/site-packages (from jinja2->folium) (1.1.0)\n",
      "Installing collected packages: branca, folium\n",
      "Successfully installed branca-0.3.1 folium-0.7.0\n",
      "\u001b[33mYou are using pip version 10.0.1, however version 18.1 is available.\n",
      "You should consider upgrading via the 'pip install --upgrade pip' command.\u001b[0m\n"
     ]
    }
   ],
   "source": [
    "!pip install folium"
   ]
  },
  {
   "cell_type": "code",
   "execution_count": 22,
   "metadata": {
    "scrolled": false
   },
   "outputs": [],
   "source": [
    "import folium"
   ]
  },
  {
   "cell_type": "code",
   "execution_count": 23,
   "metadata": {},
   "outputs": [
    {
     "data": {
      "text/html": [
       "<div style=\"width:100%;\"><div style=\"position:relative;width:100%;height:0;padding-bottom:60%;\"><iframe src=\"data:text/html;charset=utf-8;base64,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\" style=\"position:absolute;width:100%;height:100%;left:0;top:0;border:none !important;\" allowfullscreen webkitallowfullscreen mozallowfullscreen></iframe></div></div>"
      ],
      "text/plain": [
       "<folium.folium.Map at 0x113fb8940>"
      ]
     },
     "execution_count": 23,
     "metadata": {},
     "output_type": "execute_result"
    }
   ],
   "source": [
    "coord = response['region']['center']\n",
    "lattitude = coord['latitude']\n",
    "longitude = coord['longitude']\n",
    "\n",
    "yelp_map = folium.Map([lattitude, longitude])\n",
    "\n",
    "yelp_map"
   ]
  },
  {
   "cell_type": "code",
   "execution_count": null,
   "metadata": {},
   "outputs": [],
   "source": []
  },
  {
   "cell_type": "markdown",
   "metadata": {},
   "source": [
    "Expected Output:\n",
    "![](london.png)"
   ]
  },
  {
   "cell_type": "markdown",
   "metadata": {},
   "source": [
    "Nice. We can now extract the coordinate information for each business and plot it on this map.\n",
    "\n",
    "### Get the business coordinates from dataframe for each business and plot on the map above"
   ]
  },
  {
   "cell_type": "code",
   "execution_count": 26,
   "metadata": {
    "scrolled": false
   },
   "outputs": [
    {
     "data": {
      "text/html": [
       "<div style=\"width:100%;\"><div style=\"position:relative;width:100%;height:0;padding-bottom:60%;\"><iframe src=\"data:text/html;charset=utf-8;base64,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\" style=\"position:absolute;width:100%;height:100%;left:0;top:0;border:none !important;\" allowfullscreen webkitallowfullscreen mozallowfullscreen></iframe></div></div>"
      ],
      "text/plain": [
       "<folium.folium.Map at 0x113fb8940>"
      ]
     },
     "execution_count": 26,
     "metadata": {},
     "output_type": "execute_result"
    }
   ],
   "source": [
    "for business in df.index:\n",
    "    \n",
    "    coord = df['coordinates'][business]\n",
    "    lattitude = coord['latitude']\n",
    "    longitude = coord['longitude']\n",
    "\n",
    "    marker = folium.Marker(location=[lattitude,longitude])\n",
    "    marker.add_to(yelp_map)\n",
    "    \n",
    "yelp_map"
   ]
  },
  {
   "cell_type": "markdown",
   "metadata": {},
   "source": [
    "Expected output:\n",
    "![](markers.png)"
   ]
  },
  {
   "cell_type": "markdown",
   "metadata": {},
   "source": [
    "Kool so we have everything in place but the visualization is still not very *Informative* so to speak. You can't tell which marker represents which business and also other information on business like rating, cost, links to user reviews etc. is still not visible. SO its geographical , but not exactly an Information System yet as you cant make any decisions on this information.  Here's as example of what it possible can look like\n",
    "![](out.png)\n"
   ]
  },
  {
   "cell_type": "markdown",
   "metadata": {},
   "source": [
    "For this you need to understand `folium.popup()` which let's you click on a marker to show a pop up window. This window acts more like an HTML page so you can easily format the information you present in the popup using following values:\n",
    "* The official business logo/image:  `image_url`\n",
    "* Name of the Business: `name`\n",
    "* Price (how expensive): `price`\n",
    "* Links to user reviews on Yelp: `url`\n",
    "\n",
    "Doing this in HTML is not required , so we recommend that you first try to put in basic information in the popups as just text. As a next stage , you can start changing into HTML code to make it visually more appealing.\n",
    "\n",
    "### Attempt to recreate the interactive visualization shown above.\n",
    "\n",
    "Here's a good resource with code examples on [how to create folium popups](https://github.com/python-visualization/folium/blob/master/examples/Popups.ipynb)"
   ]
  },
  {
   "cell_type": "code",
   "execution_count": null,
   "metadata": {},
   "outputs": [],
   "source": [
    "# Code here "
   ]
  },
  {
   "cell_type": "markdown",
   "metadata": {},
   "source": [
    "Wow . An Interactive Geographical information System backed by live data through API calling. \n",
    "\n",
    "<img src=\"star.jpg\" width=300>\n",
    "\n",
    "### More APIs to Checkout\n",
    "\n",
    "* Google Maps\n",
    "* Twitter\n",
    "* AWS\n",
    "* IBM's Watson\n",
    "* Yelp"
   ]
  },
  {
   "cell_type": "markdown",
   "metadata": {},
   "source": [
    "## Summary \n",
    "\n",
    "In this lab, we learned how to use the Yelp API with authentication, making calls, understanding the responses and creating interactive geographical visualizations in Folium. We encourage you to re-visit this lab again once you have studied some important machine learning algorithms to make predictions , find similarities, group/cluster businesses or classify them based on user criteria. "
   ]
  }
 ],
 "metadata": {
  "kernelspec": {
   "display_name": "Python 3",
   "language": "python",
   "name": "python3"
  },
  "language_info": {
   "codemirror_mode": {
    "name": "ipython",
    "version": 3
   },
   "file_extension": ".py",
   "mimetype": "text/x-python",
   "name": "python",
   "nbconvert_exporter": "python",
   "pygments_lexer": "ipython3",
   "version": "3.7.0"
  }
 },
 "nbformat": 4,
 "nbformat_minor": 2
}
